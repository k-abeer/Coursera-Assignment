{
 "cells": [
  {
   "cell_type": "markdown",
   "id": "73119b87",
   "metadata": {},
   "source": [
    "# My jupyter notebook on IBM Watson Studio"
   ]
  },
  {
   "cell_type": "markdown",
   "id": "0b220762",
   "metadata": {},
   "source": [
    "**Abeer Katyayan**\n",
    "\n",
    "I'm a student and i aspire to work in Sports Analytics"
   ]
  },
  {
   "cell_type": "markdown",
   "id": "5be8b69e",
   "metadata": {},
   "source": [
    "*I'm interested in data science because its very argumentative in nature.*"
   ]
  },
  {
   "cell_type": "markdown",
   "id": "e22b6e7a",
   "metadata": {},
   "source": [
    "### It will arrange [3,5,7,9,1,2,4,6,8] in ascending order"
   ]
  },
  {
   "cell_type": "code",
   "execution_count": 1,
   "id": "b31329ed",
   "metadata": {},
   "outputs": [
    {
     "name": "stdout",
     "output_type": "stream",
     "text": [
      "[1, 2, 3, 4, 5, 6, 7, 8, 9]\n"
     ]
    }
   ],
   "source": [
    "L=[3,5,7,9,1,2,4,6,8]\n",
    "for j in range(len(L)):\n",
    "    m=L[j]\n",
    "    idx=j\n",
    "    c=j\n",
    "    for i in range(j,len(L)):\n",
    "        if L[i]<m:\n",
    "            m=L[i]\n",
    "            idx=c\n",
    "        c+=1\n",
    "    tmp=L[j]\n",
    "    L[j]=m\n",
    "    L[idx]=tmp\n",
    "print(L)"
   ]
  },
  {
   "cell_type": "markdown",
   "id": "693b4972",
   "metadata": {},
   "source": [
    "1. Apple\n",
    "2. Banana\n",
    "3. Mangoes\n",
    "\n",
    "* Colours\n",
    "    * Red\n",
    "    * Blue\n",
    "    * Green\n",
    "* Cars\n",
    "    * Ford\n",
    "    * Tesla\n",
    "    * Toyota\n",
    "    \n",
    "Here is a link to [Google’s](https://www.google.com) home page.\n",
    "\n"
   ]
  },
  {
   "cell_type": "code",
   "execution_count": null,
   "id": "321ac984",
   "metadata": {},
   "outputs": [],
   "source": []
  }
 ],
 "metadata": {
  "kernelspec": {
   "display_name": "Python 3 (ipykernel)",
   "language": "python",
   "name": "python3"
  },
  "language_info": {
   "codemirror_mode": {
    "name": "ipython",
    "version": 3
   },
   "file_extension": ".py",
   "mimetype": "text/x-python",
   "name": "python",
   "nbconvert_exporter": "python",
   "pygments_lexer": "ipython3",
   "version": "3.9.13"
  }
 },
 "nbformat": 4,
 "nbformat_minor": 5
}
